{
 "cells": [
  {
   "cell_type": "markdown",
   "metadata": {},
   "source": [
    "# Janssen & Rollins ABM"
   ]
  },
  {
   "cell_type": "markdown",
   "metadata": {},
   "source": [
    "This project constitutes an attempt to replicate the ABM from the paper \"Evolution of cooperation in asymmetric commons dilemmas\" by Marco A. Janssen and Nathan D. Rollins (2011). \n",
    "See http://www.sciencedirect.com/science/article/pii/S0167268111002599 for the paper. \n",
    "\n",
    "This version is only preliminary and still at an early stage. The code has not yet been cleaned up completely and still contains some unnecessary variables and functions. This will be gradually improved during the next weeks."
   ]
  },
  {
   "cell_type": "markdown",
   "metadata": {},
   "source": [
    "## Basic Structure"
   ]
  },
  {
   "cell_type": "markdown",
   "metadata": {},
   "source": [
    "This replication model relies on the Project Mesa Framework (see github.com/projectmesa).\n",
    "To get an understanding of how an ABM is built with mesa, it is useful to start with the basic blocks: the Agent and Model classes. These are imported from the mesa module."
   ]
  },
  {
   "cell_type": "code",
   "execution_count": 1,
   "metadata": {
    "collapsed": true
   },
   "outputs": [],
   "source": [
    "from mesa import Model, Agent"
   ]
  },
  {
   "cell_type": "markdown",
   "metadata": {},
   "source": [
    "At the most basic level, an agent is initialized with a unique agent ID, and a variable where some information can be stored; as an example, each agent might have a score that is increased as the model runs."
   ]
  },
  {
   "cell_type": "code",
   "execution_count": 2,
   "metadata": {
    "collapsed": true
   },
   "outputs": [],
   "source": [
    "class Resource_Agent(Agent):\n",
    "    \n",
    "     def __init__(self, unique_id):\n",
    "        self.unique_id = unique_id\n",
    "        self.score = 0"
   ]
  },
  {
   "cell_type": "markdown",
   "metadata": {},
   "source": [
    "The Model class will later create a number of agents. To do this, both the number of agents and a function to create them will be needed:"
   ]
  },
  {
   "cell_type": "code",
   "execution_count": 3,
   "metadata": {
    "collapsed": true
   },
   "outputs": [],
   "source": [
    "class Resource_Model(Model):\n",
    "    \n",
    "    \n",
    "    def __init__(self, N):\n",
    "        self.num_agents = N\n",
    "        self.create_agents()\n",
    "        \n",
    "    def create_agents(self):\n",
    "        for i in range(self.num_agents):\n",
    "            a = Resource_Agent(i)"
   ]
  },
  {
   "cell_type": "markdown",
   "metadata": {},
   "source": [
    "The above already is sufficient to create a working model, although the created agents will not do anything yet. A model with 5 agents can be created and run as follows:"
   ]
  },
  {
   "cell_type": "code",
   "execution_count": 4,
   "metadata": {
    "collapsed": false
   },
   "outputs": [],
   "source": [
    "test_model_one = Resource_Model(5)\n",
    "test_model_one.create_agents()"
   ]
  },
  {
   "cell_type": "markdown",
   "metadata": {},
   "source": [
    "## Adding a Scheduler"
   ]
  },
  {
   "cell_type": "markdown",
   "metadata": {},
   "source": [
    "In order to have the agents perform a certain action in each step of the model, a step function will have to be added to the Agent class. As an example, the agents will just increase their own score by 1 each round.\n",
    "\n",
    "In the Model class, it will have to be defined in what order the agents are activated, and how the model behaves at each step. Mesa includes several schedules, AAAAthe simplest being the BaseScheduler - the agents are activated in the order they were created each round."
   ]
  },
  {
   "cell_type": "code",
   "execution_count": 5,
   "metadata": {
    "collapsed": true
   },
   "outputs": [],
   "source": [
    "from mesa import Model, Agent\n",
    "from mesa.time import RandomActivation\n",
    "\n",
    "class Resource_Agent(Agent):\n",
    "    \n",
    "    def __init__(self, unique_id):\n",
    "        self.unique_id = unique_id\n",
    "        self.score = 0\n",
    "        \n",
    "    def step(self, model):\n",
    "        self.score += 1\n",
    "\n",
    "class Resource_Model(Model):\n",
    "    \n",
    "    def __init__(self, N):\n",
    "        self.num_agents = N\n",
    "        self.schedule = RandomActivation(self)\n",
    "        self.create_agents()\n",
    "        \n",
    "    def create_agents(self):\n",
    "        for i in range(self.num_agents):\n",
    "            a = Resource_Agent(i)\n",
    "            self.schedule.add(a)\n",
    "            \n",
    "    def step(self):\n",
    "        self.schedule.step()\n",
    "\n",
    "    def run_model(self, steps):\n",
    "        for i in range(steps):\n",
    "            self.step()"
   ]
  },
  {
   "cell_type": "markdown",
   "metadata": {},
   "source": [
    "This model can now be run, with 5 agents increasing their score each round, which will be repeated for 10 rounds."
   ]
  },
  {
   "cell_type": "code",
   "execution_count": 6,
   "metadata": {
    "collapsed": false
   },
   "outputs": [],
   "source": [
    "model = Resource_Model(5)\n",
    "model.create_agents()\n",
    "model.run_model(10)"
   ]
  },
  {
   "cell_type": "markdown",
   "metadata": {},
   "source": [
    "## Fitting the Model to Janssen & Rollins'"
   ]
  },
  {
   "cell_type": "markdown",
   "metadata": {},
   "source": [
    "In order to recreate the desired model, Agent and Model class will have to be modified to fit Janssen&Rollins Public Resource Game. The model's structure with two sub-steps per round will require changes to the Scheduler class as well.\n",
    "In this first approach, the algorithm by which agents respond to each other will be omitted, and a contribution and share takeout level will be chosen at random. [Note that this is equivalent to including the algorithm as described by formula 4 in J&R's paper and setting the parameter eta to 0. For values other than zero, the expected utility for each level of contribution will be taken into account.]"
   ]
  },
  {
   "cell_type": "markdown",
   "metadata": {},
   "source": [
    "### Agent Class"
   ]
  },
  {
   "cell_type": "markdown",
   "metadata": {},
   "source": [
    "In the game's first round, each agent is endowed with a certain number of tokens (10), some of which can be contributed to the common public resource (CPR). Depending on the amount of contributions, this resource will be multiplied by some factor. In the second round, the agents take turns taking out some share of the CPR - the first agent gets to pick first, and so forth, until the last agent. Each step, contribution and takeout share will be chosen at random. The agents store the tokens they acquired during the game in a score variable."
   ]
  },
  {
   "cell_type": "code",
   "execution_count": 7,
   "metadata": {
    "collapsed": true
   },
   "outputs": [],
   "source": [
    "import random\n",
    "from mesa import Model, Agent\n",
    "\n",
    "class Resource_Agent(Agent):\n",
    "\n",
    "    def __init__(self, unique_id):\n",
    "        self.unique_id = unique_id\n",
    "        self.score = 0\n",
    "        self.endowment = 10\n",
    "        self.contribution = random.randrange(0, 10, 1)\n",
    "        self.takeout_share = (random.randrange(0, 10, 1)) / 10\n",
    "        \n",
    "    def first_round(self, model):\n",
    "        self.endowment = 10\n",
    "        self.contribution = random.randrange(0, 10, 1)\n",
    "        self.score += (self.endowment - self.contribution)\n",
    "        model.sum_of_contributions += self.contribution\n",
    "        \n",
    "    def second_round(self, model):\n",
    "        self.takeout_share = (random.randrange(0, 10, 1)) / 10\n",
    "        takeout = round(model.resource * self.takeout_share)\n",
    "        self.score += takeout\n",
    "        model.resource -= takeout"
   ]
  },
  {
   "cell_type": "markdown",
   "metadata": {},
   "source": [
    "### Model Class"
   ]
  },
  {
   "cell_type": "markdown",
   "metadata": {},
   "source": [
    "The model class will determine the amount of tokens currently in the CPR, create a number of agents, and run for a number of steps. Janssen&Rollins describe an S-shaped function for the generated resource: more than one contributing agent is necessary to create a CPR. Mesa features a class for data colletion - this will be used to visualize the model's outcome in the end."
   ]
  },
  {
   "cell_type": "code",
   "execution_count": 8,
   "metadata": {
    "collapsed": false
   },
   "outputs": [],
   "source": [
    "from mesa.datacollection import DataCollector\n",
    "\n",
    "class Resource_Model(Model):\n",
    "    \n",
    "    def __init__(self, N):\n",
    "        self.num_agents = N\n",
    "        self.schedule = BaseScheduler(self)\n",
    "        self.create_agents()\n",
    "        self.resource = 0\n",
    "        #creating a variable to determine the amount of CPR generated in this round:\n",
    "        self.sum_of_contributions = 0\n",
    "        #data collector\n",
    "        ar = {\"Score\": lambda ar: ar.score}\n",
    "        self.dc = DataCollector(agent_reporters = ar)\n",
    "        \n",
    "    def create_agents(self):            \n",
    "        for i in range(self.num_agents):\n",
    "            a = Resource_Agent(i)\n",
    "            self.schedule.add(a)\n",
    "            \n",
    "    def step(self):\n",
    "        self.schedule.step()\n",
    "        #collecting data\n",
    "        self.dc.collect(self)\n",
    "        #resetting the sum of contributions needed to determine the amount of CPR:\n",
    "        self.sum_of_contributions = 0\n",
    "        \n",
    "    def run_model(self, steps):\n",
    "        for i in range(steps):\n",
    "            self.step()\n",
    "            \n",
    "    def created_resource(self, sum_of_contributions):\n",
    "        if sum_of_contributions >= 0 and sum_of_contributions <= 10:\n",
    "            produced_resource = 0\n",
    "        elif sum_of_contributions >10 and sum_of_contributions <= 15:\n",
    "            produced_resource = 5\n",
    "        elif sum_of_contributions >15 and sum_of_contributions <= 20:\n",
    "            produced_resource = 20\n",
    "        elif sum_of_contributions >20 and sum_of_contributions <= 25:\n",
    "            produced_resource = 40\n",
    "        elif sum_of_contributions >25 and sum_of_contributions <= 30:\n",
    "            produced_resource = 60\n",
    "        elif sum_of_contributions >30 and sum_of_contributions <= 35:\n",
    "            produced_resource = 75\n",
    "        elif sum_of_contributions >35 and sum_of_contributions <= 40:\n",
    "            produced_resource = 85\n",
    "        elif sum_of_contributions >40 and sum_of_contributions <= 45:\n",
    "            produced_resource = 95\n",
    "        elif sum_of_contributions >45 and sum_of_contributions <= 50:\n",
    "            produced_resource = 100\n",
    "        return produced_resource"
   ]
  },
  {
   "cell_type": "markdown",
   "metadata": {},
   "source": [
    "### Scheduler"
   ]
  },
  {
   "cell_type": "markdown",
   "metadata": {},
   "source": [
    "Due to the Model's design with two rounds in each step, the scheduler class needs to be modified. Also, after each first round, the model's created_resource() function will be called to determine the amount of CPR generated."
   ]
  },
  {
   "cell_type": "code",
   "execution_count": 9,
   "metadata": {
    "collapsed": true
   },
   "outputs": [],
   "source": [
    "class BaseScheduler(object):\n",
    "    model = None\n",
    "    steps = 0\n",
    "    time = 0\n",
    "    agents = []\n",
    "\n",
    "    def __init__(self, model):\n",
    "        self.model = model\n",
    "        self.steps = 0\n",
    "        self.time = 0\n",
    "        self.agents = []\n",
    "\n",
    "    def add(self, agent):\n",
    "        self.agents.append(agent)\n",
    "\n",
    "    def remove(self, agent):\n",
    "        while agent in self.agents:\n",
    "            self.agents.remove(agent)\n",
    "\n",
    "    def step(self):\n",
    "    #Modified part.\n",
    "        for agent in self.agents:\n",
    "            agent.first_round(self.model)\n",
    "        self.model.resource = self.model.created_resource(self.model.sum_of_contributions)\n",
    "        for agent in self.agents:            \n",
    "            agent.second_round(self.model)\n",
    "        self.steps += 1\n",
    "        self.time += 1\n",
    "\n",
    "    def get_agent_count(self):\n",
    "        return len(self.agents)"
   ]
  },
  {
   "cell_type": "markdown",
   "metadata": {},
   "source": [
    "As before, this model will now be run for 10 steps including 5 agents:"
   ]
  },
  {
   "cell_type": "code",
   "execution_count": 10,
   "metadata": {
    "collapsed": false
   },
   "outputs": [],
   "source": [
    "agents = 5\n",
    "runs = 10\n",
    "\n",
    "test_model = Resource_Model(agents)\n",
    "test_model.run_model(runs)"
   ]
  },
  {
   "cell_type": "markdown",
   "metadata": {},
   "source": [
    "Since the data collector collects data on each agents score, the scores of the five agents can be shown in a table using matplotlib."
   ]
  },
  {
   "cell_type": "code",
   "execution_count": 11,
   "metadata": {
    "collapsed": false,
    "scrolled": false
   },
   "outputs": [
    {
     "data": {
      "image/png": "[encoded data removed]",
      "text/plain": [
       "<matplotlib.figure.Figure at 0x104573550>"
      ]
     },
     "metadata": {},
     "output_type": "display_data"
    }
   ],
   "source": [
    "%matplotlib inline\n",
    "import matplotlib.pyplot as plt\n",
    "\n",
    "data = test_model.dc.get_agent_vars_dataframe()\n",
    "data.reset_index(inplace=True)\n",
    "last_step_data = data[data.Step == (runs - 1)]\n",
    "\n",
    "x = range(agents)\n",
    "plt.ylabel(\"Score\")\n",
    "plt.xlabel(\"Agent No.\")\n",
    "plt.bar(x, last_step_data.Score, align = \"center\")\n",
    "plt.show()"
   ]
  },
  {
   "cell_type": "markdown",
   "metadata": {},
   "source": [
    "## Algorithm"
   ]
  },
  {
   "cell_type": "markdown",
   "metadata": {},
   "source": [
    "The model as described above is running like Janssen&Rollins' model in its basic structure, but since all moves are selected from a uniform random distribution, no useful data can be generated. To recreate the probabilistic choice function by which agents react to each other in the original model, more functions need to be implemented. This is done mainly in the Agent class; the Model class remains unchanged in its essential features."
   ]
  },
  {
   "cell_type": "markdown",
   "metadata": {},
   "source": [
    "### Modifications to the Agent class"
   ]
  },
  {
   "cell_type": "markdown",
   "metadata": {},
   "source": [
    "As a first step, the model needs to be initialized with additional variables to store the model's parameters: alpha, beta and eta. Contribution and Takeout share in the game's first step remain uniformly random for now."
   ]
  },
  {
   "cell_type": "code",
   "execution_count": 12,
   "metadata": {
    "collapsed": true
   },
   "outputs": [],
   "source": [
    "from mesa import Model, Agent\n",
    "\n",
    "class Resource_Agent(Agent):\n",
    "\n",
    "    def __init__(self, unique_id, alpha, beta, eta):\n",
    "        self.unique_id = unique_id\n",
    "        self.score = 0\n",
    "        self.endowment = 10\n",
    "        self.contribution = random.randrange(0, 10, 1)\n",
    "        self.takeout_share = (random.randrange(0, 10, 1)) / 10\n",
    "        self.alpha = alpha\n",
    "        self.beta = beta\n",
    "        self.eta = eta"
   ]
  },
  {
   "cell_type": "markdown",
   "metadata": {},
   "source": [
    "In the first_round and second_round functions, a list of probabilities from which a move is chosen replaces the uniformly random move choice. This list of probabilities is the heart of the model. It will be shown later how this list is generated."
   ]
  },
  {
   "cell_type": "code",
   "execution_count": 13,
   "metadata": {
    "collapsed": true
   },
   "outputs": [],
   "source": [
    "    def first_round(self, model):\n",
    "        self.endowment = 10\n",
    "        self.contribution = np.random.choice(11, p = self.k_probability_list_function(model))\n",
    "        self.score += (self.endowment - self.contribution)\n",
    "        model.sum_of_contributions += self.contribution\n",
    "        \n",
    "    def second_round(self, model):\n",
    "        self.takeout_share = ((np.random.choice(11, p = self.l_probability_list_function(mode)) / 10))\n",
    "        takeout = round(model.resource * self.takeout_share)\n",
    "        self.score += takeout\n",
    "        model.resource -= takeout"
   ]
  },
  {
   "cell_type": "markdown",
   "metadata": {},
   "source": [
    "#### First Round"
   ]
  },
  {
   "cell_type": "markdown",
   "metadata": {},
   "source": [
    "In the model, a hypothetical utility for each possible amount of contribution to the CPR is calculated, dependent on the choices of Contribution and Share Takeout level of the other agents in the previous round. The utility of each k is \"transformed\" and divided by the sum of the \"transformed\" utilities for all ks. The transformation is done by multiplying the utility by the model parameter eta, and calculating the exponential function for this - \n",
    "See formula (4) in the Janssen&Rollins paper. \n",
    "Note that the following functions will later need to be reversed in order to make them callable for each other, but the approach is more easily understandable by introducing them in reverse order."
   ]
  },
  {
   "cell_type": "code",
   "execution_count": 14,
   "metadata": {
    "collapsed": true
   },
   "outputs": [],
   "source": [
    "    def k_probability_list_function(self, model):\n",
    "        probability_list = []\n",
    "        for i in range(0, 11, 1):\n",
    "            probability_list.append(self.probability_of_k(i, model))\n",
    "        return probability_list\n",
    "    \n",
    "    def probability_of_k(k, model):\n",
    "        utility_of_k = self.utility_transformation(k, model)\n",
    "        probability = utility_of_k / self.transformed_utility_sum(model)\n",
    "        return probability\n",
    "    \n",
    "    def utility_transformation(self, k, model):\n",
    "        transformed_utility = math.exp(self.eta * (self.utility_of_k(k, model)))\n",
    "        return transformed_utility\n",
    "    \n",
    "    def transformed_utility_sum(self, model):\n",
    "        utility_sum = 0\n",
    "        for i in range(0, 11, 1):\n",
    "            calculation = self.utility_transformation(i, model)\n",
    "            utility_sum += calculation\n",
    "        return utility_sum   "
   ]
  },
  {
   "cell_type": "markdown",
   "metadata": {},
   "source": [
    "For a given hypothetical utility for each k, each agent could now pick a contribution by probabilistic choice. In order for this to work, functions to determine hypothetical utilites for each k given the previous round's contributions and takeout shares of the other agents.\n",
    "The utility is dependend on an agent's earnings, the parameters alpha and beta, and the average earnings of the other players. See formula (3) in the J&R paper for this."
   ]
  },
  {
   "cell_type": "code",
   "execution_count": 15,
   "metadata": {
    "collapsed": true
   },
   "outputs": [],
   "source": [
    "    def utility_of_k(self, k, model):\n",
    "        if self.determine_wage(k, model) > self.determine_average_wage(k, model):\n",
    "            utility = self.determine_wage(k, model) - (self.alpha * (self.determine_wage(k, model) - self.determine_average_wage(k, model)))\n",
    "        elif self.determine_wage(k, model) == self.determine_average_wage(k, model):\n",
    "            utility = self.determine_wage(k, model)\n",
    "        else:\n",
    "            utility = self.determine_wage(k, model) + (self.beta * (self.determine_average_wage(k, model) - self.determine_wage(k, model)))\n",
    "        return utility"
   ]
  },
  {
   "cell_type": "markdown",
   "metadata": {},
   "source": [
    "In order to calculate the utility, additional functions to determine the wages for each respective player, as well as the average wage are needed. As follows from formula (4), the hypothetical wage for each contribution level k is dependent on the CPR that would be generated if all agents contributed the same amount as in the previous round, and the agent's upstream agents took out the same share as in the previous round - that is, the agent's potential takeout from the CPR."
   ]
  },
  {
   "cell_type": "code",
   "execution_count": 16,
   "metadata": {
    "collapsed": true
   },
   "outputs": [],
   "source": [
    "    def determine_wage(self, k, model):\n",
    "        wage_player = (self.endowment - k) + self.determine_available_resource(k, model)\n",
    "        return wage_player"
   ]
  },
  {
   "cell_type": "markdown",
   "metadata": {},
   "source": [
    "As mentioned, the potentially available resource is determined by the CPR generated by all other agents - upstream and downstream - and the takeout share of the other players. The generated CPR is subject to the S-curve transformation described earlier, which is stored in the model class."
   ]
  },
  {
   "cell_type": "code",
   "execution_count": 17,
   "metadata": {
    "collapsed": true
   },
   "outputs": [],
   "source": [
    "    def determine_available_resource(self, k, model):\n",
    "        contributions = self.last_round_sum_of_other_contributions(model) + k\n",
    "        resource = model.created_resource(contributions)\n",
    "        available_resource = resource * self.last_round_upstream_agents_combined_takeout_shares(model)\n",
    "        return available_resource"
   ]
  },
  {
   "cell_type": "markdown",
   "metadata": {},
   "source": [
    "In order to make the abovewritten function work, a function to determine the other agents and their position respective to the relevant agent are necessary.\n",
    "Then, functions to determine a given agent's last contribution and takeout level need to be added.\n",
    "In order for both to work, some additional variables in the agent class are added.\n",
    "The class is to be initialised with two new variables: a list for the agent's contributions in previous steps, past_contributions, and a list for the agent's takeout shares in past steps, past_takeout_shares.\n",
    "Two extra variables storing the total amount of tokens contributed to and taken out of the CPR will be added for the purpose of later data extraction.\n",
    "We will later utilize numpy to pick a move at random from a given list of probabilities, and using a math function to do a transformation of the utility."
   ]
  },
  {
   "cell_type": "code",
   "execution_count": 18,
   "metadata": {
    "collapsed": true
   },
   "outputs": [],
   "source": [
    "import math\n",
    "import numpy as np\n",
    "\n",
    "\n",
    "class Resource_Agent(Agent):\n",
    "\n",
    "    def __init__(self, unique_id, alpha, beta, eta):\n",
    "        self.unique_id = unique_id\n",
    "        self.score = 0\n",
    "        self.endowment = 10\n",
    "        self.contribution = random.randrange(0, 10, 1)\n",
    "        self.takeout_share = (random.randrange(0, 10, 1)) / 10\n",
    "        self.alpha = alpha\n",
    "        self.beta = beta\n",
    "        self.eta = eta\n",
    "        #New variables\n",
    "        self.past_contributions = [self.contribution]\n",
    "        self.past_takeout_shares = [self.takeout_share]\n",
    "        self.total_contribution = 0\n",
    "        self.total_amount_taken_out = 0"
   ]
  },
  {
   "cell_type": "markdown",
   "metadata": {},
   "source": [
    "These variables need to be appended with the agent's contribution and takeout shares for each step. Also, the total_contribution and total_amount_taken_out variables are updated each round."
   ]
  },
  {
   "cell_type": "code",
   "execution_count": 19,
   "metadata": {
    "collapsed": false
   },
   "outputs": [],
   "source": [
    "    def first_round(self, model):\n",
    "        self.endowment = 10\n",
    "        self.contribution = np.random.choice(11, p = self.k_probability_list_function(model))\n",
    "        self.score += (self.endowment - self.contribution)\n",
    "        model.sum_of_contributions += self.contribution\n",
    "        #Appending the past_contributions list\n",
    "        self.past_contributions.append(self.contribution)\n",
    "        #Increasing the total contributions\n",
    "        self.total_contribution += self.contribution\n",
    "        \n",
    "    def second_round(self, model):\n",
    "        self.takeout_share = ((np.random.choice(11, p = self.l_probability_list_function(model)) / 10))\n",
    "        takeout = round(model.resource * self.takeout_share)\n",
    "        self.score += takeout\n",
    "        model.resource -= takeout\n",
    "        #Appending the past_takeout_shares list\n",
    "        self.past_takeout_shares.append(self.takeout_share)\n",
    "        #Increasing the total amount taken out\n",
    "        self.total_amount_taken_out += takeout"
   ]
  },
  {
   "cell_type": "markdown",
   "metadata": {},
   "source": [
    "A function to determine a list of upstream and downstream agents is added. First, each agent needs to be able to determine its own ID."
   ]
  },
  {
   "cell_type": "code",
   "execution_count": 20,
   "metadata": {
    "collapsed": true
   },
   "outputs": [],
   "source": [
    "    def get_id(self):\n",
    "        return self.unique_id        \n",
    "    \n",
    "    def determine_upstream_players(self, model):\n",
    "        \n",
    "        upstream_players = []\n",
    "        for agent in model.schedule.agents:\n",
    "            if agent.unique_id < self.get_id():\n",
    "                upstream_players.append(agent)\n",
    "        return upstream_players\n",
    "    \n",
    "    def determine_downstream_players(self, model):\n",
    "        \n",
    "        downstream_players = []\n",
    "        for agent in model.schedule.agents:\n",
    "            if agent.unique_id > self.get_id():\n",
    "                downstream_players.append(agent)\n",
    "        return downstream_players"
   ]
  },
  {
   "cell_type": "markdown",
   "metadata": {},
   "source": [
    "Now, let's add functions for determining the sum of all other agents' contributions in the previous step of the game."
   ]
  },
  {
   "cell_type": "code",
   "execution_count": 21,
   "metadata": {
    "collapsed": true
   },
   "outputs": [],
   "source": [
    "    def last_round_sum_of_other_players_contributions(self, model):\n",
    "        sum_of_contributions = 0\n",
    "        for i in self.determine_upstream_players(model):\n",
    "            sum_of_contributions += i.past_contributions[model.schedule.steps]\n",
    "        for j in self.determine_downstream_players(model):\n",
    "            sum_of_contributions += j.past_contributions[model.schedule.steps]\n",
    "        return sum_of_contributions"
   ]
  },
  {
   "cell_type": "markdown",
   "metadata": {},
   "source": [
    "Finally, the previous round's takeout shares need to be combined - but only for the agents upstream of the respective agents. Also, this is not a sum of shares, but a multiplication of them, since the shares are expressed in a fraction of the total resource that is taken out. To get the remaining share, the term has to be muliplied by (1 - share) for each agent."
   ]
  },
  {
   "cell_type": "code",
   "execution_count": 22,
   "metadata": {
    "collapsed": true
   },
   "outputs": [],
   "source": [
    "    def last_round_upstream_agents_combined_takeout_shares(self, model):\n",
    "        remaining_share = 1\n",
    "        for i in self.determine_upstream_players(model):\n",
    "            remaining_share = remaining_share * (1 - i.past_takeout_shares[model.schedule.steps])\n",
    "        return remaining_share"
   ]
  },
  {
   "cell_type": "markdown",
   "metadata": {},
   "source": [
    "A given agent's wage can now be determined! Let's move on to the next part of the utility function, the average wage, which is equal to the amount of CPR that was generated plus the part of the endowment that was not invested - divided by the amount of agents. This calculation is based on the assumption that none of the CPR is \"wasted\", i.e., not taken out - which should be the case."
   ]
  },
  {
   "cell_type": "code",
   "execution_count": 23,
   "metadata": {
    "collapsed": true
   },
   "outputs": [],
   "source": [
    "    def determine_average_wage(self, k, model):\n",
    "        n = 0\n",
    "        for i in model.schedule.agents:\n",
    "            n += 1\n",
    "        generated_cpr = model.created_resource(self.last_round_sum_of_other_contributions(model) + k)\n",
    "        endowment_not_invested = (n * self.endowment) - (self.last_round_sum_of_other_contributions(model) + k)\n",
    "        total_wage = generated_cpr + endowment_not_invested\n",
    "        average_wage = total_wage / n\n",
    "        \n",
    "        return average_wage"
   ]
  },
  {
   "cell_type": "markdown",
   "metadata": {},
   "source": [
    "Which allows a calculation of the utility for each given k, and thus gives a list of probabilities for each k. What remains to be added is an analoguous algorithm for determining the takeout share, l. This is equivalent to function (5) in the paper."
   ]
  },
  {
   "cell_type": "markdown",
   "metadata": {},
   "source": [
    "#### Second Round"
   ]
  },
  {
   "cell_type": "code",
   "execution_count": 24,
   "metadata": {
    "collapsed": true
   },
   "outputs": [],
   "source": [
    "    def l_probability_list_function(self, model):\n",
    "        l_probability_list = []\n",
    "        for i in range(0, 11, 1):\n",
    "            l_probability_list.append(self.probability_of_l(i / 10, model))\n",
    "        return l_probability_list\n",
    "    \n",
    "    def probability_of_l(self, l, model):\n",
    "        utility_of_l = self.round_two_utility_transformation(l, model)\n",
    "        probability_of_l = utility_of_l / self.round_two_transformed_utility_sum(model)\n",
    "        return probability_of_l\n",
    "    \n",
    "    def round_two_utility_transformation(self, l, model):\n",
    "        round_two_transformed_utility = math.exp(self.eta * (self.determine_round_two_utility(l, model)))\n",
    "        return round_two_transformed_utility\n",
    "    \n",
    "    def round_two_transformed_utility_sum(self, model):\n",
    "        round_two_utility_sum = 0\n",
    "        for i in range(0, 11, 1):\n",
    "            calculation = self.round_two_utility_transformation(i / 10, model)\n",
    "            round_two_utility_sum += calculation\n",
    "        return round_two_utility_sum"
   ]
  },
  {
   "cell_type": "markdown",
   "metadata": {},
   "source": [
    "Equivalently to the first round, a function to determine a hypothetical utility for each takeout share l is needed. Unlike in the first round, however, the takeout shares of the upstream agents are known to the calculating agent, as is the size of the resource."
   ]
  },
  {
   "cell_type": "code",
   "execution_count": 25,
   "metadata": {
    "collapsed": true
   },
   "outputs": [],
   "source": [
    "    def determine_round_two_utility(self, l, model):\n",
    "        \n",
    "        if self.round_two_determine_wage(l, model) > self.round_two_average_wage(l, model):\n",
    "            utility = self.round_two_determine_wage(l, model) - (self.alpha * (self.round_two_determine_wage(l, model) - self.round_two_average_wage(l, model)))\n",
    "        elif self.round_two_determine_wage(l, model) == self.round_two_average_wage(l, model):\n",
    "            utility = self.round_two_determine_wage(l, model)\n",
    "        else:\n",
    "            utility = self.round_two_determine_wage(l, model) + (self.beta * (self.round_two_average_wage(l, model) - self.round_two_determine_wage(l, model)))\n",
    "        return utility\n",
    "\n",
    "    def round_two_determine_wage(self, l, model):\n",
    "        round_two_wage = (self.endowment - self.contribution) + (l * model.resource)\n",
    "        return round_two_wage\n",
    "     \n",
    "    def round_two_average_wage(self, l, model):\n",
    "        n = 0\n",
    "        for i in model.schedule.agents:\n",
    "            n += 1\n",
    "        this_round_contribution_sum = 0\n",
    "        for i in model.schedule.agents:\n",
    "            this_round_contribution_sum += i.contribution\n",
    "        generated_resource = model.created_resource(this_round_contribution_sum)\n",
    "        endowment_not_invested = (n * self.endowment) - this_round_contribution_sum\n",
    "        total_wage = generated_cpr + endowment_not_invested\n",
    "        average_wage = total_wage / n"
   ]
  },
  {
   "cell_type": "markdown",
   "metadata": {},
   "source": [
    "#### Complete Agent class"
   ]
  },
  {
   "cell_type": "markdown",
   "metadata": {},
   "source": [
    "The necessary functions and variables to incorporate the algorithm into the Agent class are thus added. As mentioned earlier, the order in which the functions are defined need to be reversed, in order to make them callable in the right order. Which leaves us with the following complete Agent class:"
   ]
  },
  {
   "cell_type": "code",
   "execution_count": 26,
   "metadata": {
    "collapsed": true
   },
   "outputs": [],
   "source": [
    "class Resource_Agent(Agent):\n",
    "\n",
    "    def __init__(self, unique_id, alpha, beta, eta):\n",
    "        self.unique_id = unique_id\n",
    "        self.score = 0\n",
    "        self.endowment = 10\n",
    "        self.contribution = random.randrange(0, 10, 1)\n",
    "        self.takeout_share = (random.randrange(0, 10, 1)) / 10\n",
    "        self.alpha = alpha\n",
    "        self.beta = beta\n",
    "        self.eta = eta\n",
    "        self.past_contributions = [self.contribution]\n",
    "        self.past_takeout_shares = [self.takeout_share]\n",
    "        self.total_contribution = 0\n",
    "        self.total_amount_taken_out = 0\n",
    "        \n",
    "    def first_round(self, model):\n",
    "        self.endowment = 10\n",
    "        self.contribution = np.random.choice(11, p = self.k_probability_list_function(model))\n",
    "        self.score += (self.endowment - self.contribution)\n",
    "        self.past_contributions.append(self.contribution)\n",
    "        self.total_contribution += self.contribution\n",
    "        model.sum_of_contributions += self.contribution\n",
    "        \n",
    "    def second_round(self, model):\n",
    "        self.takeout_share = ((np.random.choice(11, p = self.l_probability_list_function(model)) / 10))\n",
    "        takeout = round(model.resource * self.takeout_share)\n",
    "        self.score += takeout\n",
    "        model.resource -= takeout\n",
    "        self.past_takeout_shares.append(self.takeout_share)\n",
    "        self.total_amount_taken_out += takeout  \n",
    "        \n",
    "    #General functions\n",
    "    \n",
    "    def get_id(self):\n",
    "        return self.unique_id        \n",
    "\n",
    "    def determine_upstream_players(self, model):\n",
    "        \n",
    "        upstream_players = []\n",
    "        for agent in model.schedule.agents:\n",
    "            if agent.unique_id < self.get_id():\n",
    "                upstream_players.append(agent)\n",
    "        return upstream_players\n",
    "    \n",
    "    def determine_downstream_players(self, model):\n",
    "        \n",
    "        downstream_players = []\n",
    "        for agent in model.schedule.agents:\n",
    "            if agent.unique_id > self.get_id():\n",
    "                downstream_players.append(agent)\n",
    "        return downstream_players\n",
    "    \n",
    "    #Functions for Round 1\n",
    "    \n",
    "    def last_round_sum_of_other_contributions(self, model):\n",
    "        sum_of_contributions = 0\n",
    "        for i in self.determine_upstream_players(model):\n",
    "            sum_of_contributions += i.past_contributions[model.schedule.steps]\n",
    "        for j in self.determine_downstream_players(model):\n",
    "            sum_of_contributions += j.past_contributions[model.schedule.steps]\n",
    "        return sum_of_contributions\n",
    "    \n",
    "    def last_round_upstream_agents_combined_takeout_shares(self, model):\n",
    "        remaining_share = 1\n",
    "        for i in self.determine_upstream_players(model):\n",
    "            remaining_share = remaining_share * (1 - i.past_takeout_shares[model.schedule.steps])\n",
    "        return remaining_share\n",
    "    \n",
    "    def determine_available_resource(self, k, model):\n",
    "        contributions = self.last_round_sum_of_other_contributions(model) + k\n",
    "        resource = model.created_resource(contributions)\n",
    "        available_resource = resource * self.last_round_upstream_agents_combined_takeout_shares(model)\n",
    "        return available_resource\n",
    "    \n",
    "    def determine_wage(self, k, model):\n",
    "        wage_player = (self.endowment - k) + self.determine_available_resource(k, model)\n",
    "        return wage_player\n",
    "    \n",
    "    def determine_average_wage(self, k, model):\n",
    "        n = 0\n",
    "        for i in model.schedule.agents:\n",
    "            n += 1\n",
    "        generated_cpr = model.created_resource(self.last_round_sum_of_other_contributions(model) + k)\n",
    "        endowment_not_invested = (n * self.endowment) - (self.last_round_sum_of_other_contributions(model) + k)\n",
    "        total_wage = generated_cpr + endowment_not_invested\n",
    "        average_wage = total_wage / n\n",
    "        return average_wage\n",
    "    \n",
    "    def utility_of_k(self, k, model):\n",
    "        if self.determine_wage(k, model) > self.determine_average_wage(k, model):\n",
    "            utility = self.determine_wage(k, model) - (self.alpha * (self.determine_wage(k, model) - self.determine_average_wage(k, model)))\n",
    "        elif self.determine_wage(k, model) == self.determine_average_wage(k, model):\n",
    "            utility = self.determine_wage(k, model)\n",
    "        else:\n",
    "            utility = self.determine_wage(k, model) + (self.beta * (self.determine_average_wage(k, model) - self.determine_wage(k, model)))\n",
    "        return utility\n",
    "    \n",
    "    def utility_transformation(self, k, model):\n",
    "        transformed_utility = math.exp(self.eta * (self.utility_of_k(k, model)))\n",
    "        return transformed_utility\n",
    "\n",
    "    def transformed_utility_sum(self, model):\n",
    "        utility_sum = 0\n",
    "        for i in range(0, 11, 1):\n",
    "            calculation = self.utility_transformation(i, model)\n",
    "            utility_sum += calculation\n",
    "        return utility_sum   \n",
    "    \n",
    "    def probability_of_k(self, k, model):\n",
    "        utility_of_k = self.utility_transformation(k, model)\n",
    "        probability = utility_of_k / self.transformed_utility_sum(model)\n",
    "        return probability\n",
    "    \n",
    "    def k_probability_list_function(self, model):\n",
    "        probability_list = []\n",
    "        for i in range(0, 11, 1):\n",
    "            probability_list.append(self.probability_of_k(i, model))\n",
    "        return probability_list\n",
    "    \n",
    "    #Functions for Round 2\n",
    "    \n",
    "    def round_two_determine_wage(self, l, model):\n",
    "        round_two_wage = (self.endowment - self.contribution) + (l * model.resource)\n",
    "        return round_two_wage\n",
    "     \n",
    "    def round_two_average_wage(self, l, model):\n",
    "        n = 0\n",
    "        for i in model.schedule.agents:\n",
    "            n += 1\n",
    "        this_round_contribution_sum = 0\n",
    "        for i in model.schedule.agents:\n",
    "            this_round_contribution_sum += i.contribution\n",
    "        generated_resource = model.created_resource(this_round_contribution_sum)\n",
    "        endowment_not_invested = (n * self.endowment) - this_round_contribution_sum\n",
    "        total_wage = generated_resource + endowment_not_invested\n",
    "        average_wage = total_wage / n\n",
    "        return average_wage\n",
    "    \n",
    "    def determine_round_two_utility(self, l, model):\n",
    "        if self.round_two_determine_wage(l, model) > self.round_two_average_wage(l, model):\n",
    "            utility = self.round_two_determine_wage(l, model) - (self.alpha * (self.round_two_determine_wage(l, model) - self.round_two_average_wage(l, model)))\n",
    "        elif self.round_two_determine_wage(l, model) == self.round_two_average_wage(l, model):\n",
    "            utility = self.round_two_determine_wage(l, model)\n",
    "        else:\n",
    "            utility = self.round_two_determine_wage(l, model) + (self.beta * (self.round_two_average_wage(l, model) - self.round_two_determine_wage(l, model)))\n",
    "        return utility\n",
    "\n",
    "    def round_two_utility_transformation(self, l, model):\n",
    "        round_two_transformed_utility = math.exp(self.eta * (self.determine_round_two_utility(l, model)))\n",
    "        return round_two_transformed_utility\n",
    "    \n",
    "    def round_two_transformed_utility_sum(self, model):\n",
    "        round_two_utility_sum = 0\n",
    "        for i in range(0, 11, 1):\n",
    "            calculation = self.round_two_utility_transformation(i / 10, model)\n",
    "            round_two_utility_sum += calculation\n",
    "        return round_two_utility_sum\n",
    "\n",
    "    def probability_of_l(self, l, model):\n",
    "        utility_of_l = self.round_two_utility_transformation(l, model)\n",
    "        probability_of_l = utility_of_l / self.round_two_transformed_utility_sum(model)\n",
    "        return probability_of_l\n",
    "\n",
    "\n",
    "    def l_probability_list_function(self, model):\n",
    "        l_probability_list = []\n",
    "        for i in range(0, 11, 1):\n",
    "            l_probability_list.append(self.probability_of_l(i / 10, model))\n",
    "        return l_probability_list"
   ]
  },
  {
   "cell_type": "markdown",
   "metadata": {},
   "source": [
    "### Modifications to the Model class"
   ]
  },
  {
   "cell_type": "markdown",
   "metadata": {},
   "source": [
    "Inside the Model class, additional variables to pass on the parameters to the Agent class are the only modification. Also, the DataCollector will be updated in order to collect the total amount of contributions and takeouts for each agent."
   ]
  },
  {
   "cell_type": "code",
   "execution_count": 27,
   "metadata": {
    "collapsed": true
   },
   "outputs": [],
   "source": [
    "class Resource_Model(Model):\n",
    "    \n",
    "    def __init__(self, N, alpha, beta, eta):\n",
    "        self.num_agents = N\n",
    "        self.alpha = alpha\n",
    "        self.beta = beta\n",
    "        self.eta = eta\n",
    "        self.schedule = BaseScheduler(self)\n",
    "        self.create_agents()\n",
    "        self.resource = 0\n",
    "        self.sum_of_contributions = 0\n",
    "        ar = {\"Score\": lambda ar: ar.score, \n",
    "                \"Total_Contribution\": lambda at: at.total_contribution, \n",
    "                \"Total_Amount_Taken_Out\": lambda au: au.total_amount_taken_out}\n",
    "        self.dc = DataCollector(agent_reporters = ar)\n",
    "        \n",
    "    def create_agents(self):            \n",
    "        for i in range(self.num_agents):\n",
    "            a = Resource_Agent(i, alpha, beta, eta)\n",
    "            self.schedule.add(a)\n",
    "            \n",
    "    def step(self):\n",
    "        self.schedule.step()\n",
    "        self.dc.collect(self)\n",
    "        self.sum_of_contributions = 0\n",
    "        \n",
    "    def run_model(self, steps):\n",
    "        for i in range(steps):\n",
    "            self.step()\n",
    "            \n",
    "    def created_resource(self, sum_of_contributions):\n",
    "        if sum_of_contributions >= 0 and sum_of_contributions <= 10:\n",
    "            produced_resource = 0\n",
    "        elif sum_of_contributions >10 and sum_of_contributions <= 15:\n",
    "            produced_resource = 5\n",
    "        elif sum_of_contributions >15 and sum_of_contributions <= 20:\n",
    "            produced_resource = 20\n",
    "        elif sum_of_contributions >20 and sum_of_contributions <= 25:\n",
    "            produced_resource = 40\n",
    "        elif sum_of_contributions >25 and sum_of_contributions <= 30:\n",
    "            produced_resource = 60\n",
    "        elif sum_of_contributions >30 and sum_of_contributions <= 35:\n",
    "            produced_resource = 75\n",
    "        elif sum_of_contributions >35 and sum_of_contributions <= 40:\n",
    "            produced_resource = 85\n",
    "        elif sum_of_contributions >40 and sum_of_contributions <= 45:\n",
    "            produced_resource = 95\n",
    "        elif sum_of_contributions >45 and sum_of_contributions <= 50:\n",
    "            produced_resource = 100\n",
    "        return produced_resource"
   ]
  },
  {
   "cell_type": "markdown",
   "metadata": {},
   "source": [
    "### Running the Algorithm Model"
   ]
  },
  {
   "cell_type": "markdown",
   "metadata": {},
   "source": [
    "The model now being on par with the model in J&R's paper, it can now be run with specified parameters. The parameters alpha, beta, and eta will all be set 0.5 for now."
   ]
  },
  {
   "cell_type": "code",
   "execution_count": 28,
   "metadata": {
    "collapsed": false
   },
   "outputs": [],
   "source": [
    "#Model Parameters\n",
    "runs = 10\n",
    "agents = 5\n",
    "alpha = 0.5\n",
    "beta = 0.5\n",
    "eta = 0.5\n",
    "#Run the Model\n",
    "test_model = Resource_Model(agents, alpha, beta, eta)\n",
    "test_model.run_model(runs)"
   ]
  },
  {
   "cell_type": "markdown",
   "metadata": {},
   "source": [
    "To analyze the model's output, a plot showing the total amount of contributions and takeouts for each player will be drawn. For this, first, the relevant data points in the DataCollector's data array need to be extracted: For the total contribution and takeouts, only the very last step of the game is relevant."
   ]
  },
  {
   "cell_type": "code",
   "execution_count": 29,
   "metadata": {
    "collapsed": true
   },
   "outputs": [],
   "source": [
    "data = test_model.dc.get_agent_vars_dataframe()\n",
    "data.reset_index(inplace=True)\n",
    "\n",
    "model_data = test_model.dc.get_model_vars_dataframe()\n",
    "\n",
    "last_step_data = data[data.Step == (runs -1 )]"
   ]
  },
  {
   "cell_type": "markdown",
   "metadata": {},
   "source": [
    "Now, the diagram is plotted, using matplotlib."
   ]
  },
  {
   "cell_type": "code",
   "execution_count": 30,
   "metadata": {
    "collapsed": false
   },
   "outputs": [
    {
     "data": {
      "image/png": "[encoded data removed]",
      "text/plain": [
       "<matplotlib.figure.Figure at 0x1072a45c0>"
      ]
     },
     "metadata": {},
     "output_type": "display_data"
    }
   ],
   "source": [
    "fig = plt.figure()\n",
    "ax = fig.add_subplot(111)\n",
    "\n",
    "N = agents\n",
    "ind = np.arange(N)\n",
    "width = 0.28\n",
    "player_one = last_step_data[last_step_data.AgentID == 0]\n",
    "highest_takeout = int(player_one.Total_Amount_Taken_Out)\n",
    "\n",
    "\n",
    "rects1 = ax.bar(ind + width * 2, last_step_data.Total_Amount_Taken_Out, width, color = \"red\")\n",
    "rects2 = ax.bar(ind + width, last_step_data.Total_Contribution, width, color = \"blue\")\n",
    "\n",
    "ax.set_xlim(-width, len(ind) + width)\n",
    "ax.set_ylim(0, highest_takeout * 1.1)\n",
    "ax.set_ylabel(\"Points\")\n",
    "ax.set_title(\"Points by Agents\")\n",
    "xTickMarks = [\"Agent\" + str(i) for i in range(agents)]\n",
    "ax.set_xticks(ind + width)\n",
    "xtickNames = ax.set_xticklabels(xTickMarks)\n",
    "plt.setp(xtickNames, rotation = 45, fontsize = 10)\n",
    "\n",
    "ax.legend((rects2[0], rects1[0]), (\"SumOfContributions\", \"SumOfTakeouts\"))\n",
    "plt.show()"
   ]
  }
 ],
 "metadata": {
  "kernelspec": {
   "display_name": "Python 3",
   "language": "python",
   "name": "python3"
  },
  "language_info": {
   "codemirror_mode": {
    "name": "ipython",
    "version": 3
   },
   "file_extension": ".py",
   "mimetype": "text/x-python",
   "name": "python",
   "nbconvert_exporter": "python",
   "pygments_lexer": "ipython3",
   "version": "3.5.1"
  }
 },
 "nbformat": 4,
 "nbformat_minor": 0
}
