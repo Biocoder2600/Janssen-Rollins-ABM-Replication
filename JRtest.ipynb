{
 "cells": [
  {
   "cell_type": "markdown",
   "metadata": {
    "collapsed": true
   },
   "source": [
    "# Model Replication"
   ]
  },
  {
   "cell_type": "markdown",
   "metadata": {},
   "source": [
    "Making use of the classes in the \"modules.py\" (some classes modified from the mesa framework) and \"Visu.py\" files, results from replication and original model by Janssen and Rollins can be compared. Relational equiv?"
   ]
  },
  {
   "cell_type": "code",
   "execution_count": 3,
   "metadata": {
    "collapsed": false
   },
   "outputs": [],
   "source": [
    "from modules import Resource_Model, BatchRunner, Data_Collection\n",
    "from Visu import Visu"
   ]
  },
  {
   "cell_type": "markdown",
   "metadata": {},
   "source": [
    "## Exploring the Parameter Space: CPR Levels and Gini of Contributions / Extractions"
   ]
  },
  {
   "cell_type": "markdown",
   "metadata": {},
   "source": [
    "Figs. 2, 3, and 4 in Janssen's and Rollins' paper show the averages of generated CPR level as well as Gini coefficients of contributions and extractions for different values for parameters alpha and beta. Setting up a model with Janssen's and Rollins' set of default parameter values (see Table 2 in Janssen's and Rollins' paper), the resulting graphs can be compared. First, the case for only asymmetric games is tested. The model is run for 50 iterations."
   ]
  },
  {
   "cell_type": "code",
   "execution_count": 4,
   "metadata": {
    "collapsed": true
   },
   "outputs": [],
   "source": [
    "runs = 10\n",
    "agents = 5\n",
    "eta = 0.5\n",
    "fa = 1\n",
    "r = 2\n",
    "iterations = 2\n",
    "alpha_beta_values = [] #the range of values for alpha and beta with which the iterated model is run\n",
    "for i in range(-10, 11):\n",
    "    x = i/10\n",
    "    alpha_beta_values.append(x)"
   ]
  },
  {
   "cell_type": "markdown",
   "metadata": {},
   "source": [
    "Setting up mesa's BatchRunner for the iterated model, running the model, and plotting the output using matplotlib."
   ]
  },
  {
   "cell_type": "code",
   "execution_count": 5,
   "metadata": {
    "collapsed": true
   },
   "outputs": [],
   "source": [
    "#parameters for the BatchRunner, i.e. the iterated model\n",
    "param_values = {\"N\": agents, \"alpha\": alpha_beta_values, \"beta\": alpha_beta_values, \"eta\": eta,\n",
    "                \"fa\": fa, \"r\": r}\n",
    "\n",
    "model_reporter = {\"Generated_CPR\": Data_Collection.determine_final_resource,\n",
    "                  \"Gini_Contributions\": Data_Collection.compute_gini_contributions, \n",
    "                  \"Gini_Takeouts\": Data_Collection.compute_gini_takeouts}\n",
    "batch = BatchRunner(Resource_Model, param_values, iterations, runs, model_reporter)\n",
    "\n",
    "batch.run_all()\n",
    "out = batch.get_model_vars_dataframe() # Stores the collected data\n",
    "\n",
    "visualize = Visu(out)\n",
    "visualize.plot()"
   ]
  },
  {
   "cell_type": "markdown",
   "metadata": {},
   "source": []
  }
 ],
 "metadata": {
  "anaconda-cloud": {},
  "kernelspec": {
   "display_name": "Python [Root]",
   "language": "python",
   "name": "Python [Root]"
  },
  "language_info": {
   "codemirror_mode": {
    "name": "ipython",
    "version": 3
   },
   "file_extension": ".py",
   "mimetype": "text/x-python",
   "name": "python",
   "nbconvert_exporter": "python",
   "pygments_lexer": "ipython3",
   "version": "3.5.2"
  }
 },
 "nbformat": 4,
 "nbformat_minor": 0
}
